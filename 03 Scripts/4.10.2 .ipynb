{
 "cells": [
  {
   "cell_type": "markdown",
   "id": "4692bc0f",
   "metadata": {},
   "source": [
    "# Table of Contents - still adjust \n",
    "### Importing Libaries and Data Sets\n",
    "### Task 5  Create a profiling variable based on age, income, certain goods in the “department_id” column, and number of dependents.\n",
    "### Creating Flags for Age and Income Level\n",
    "### Sampling Dataset \n",
    "### Checking Customer by Income Level, Age Group and Region\n",
    "### Customers by Income Level and Age group\n",
    "### Customers by Income Level and Region\n",
    "### Customers by Marital Status and Region\n",
    "### Customers by Region and Age\n",
    "### Export Data Set"
   ]
  },
  {
   "cell_type": "markdown",
   "id": "1a903c9a",
   "metadata": {},
   "source": [
    "## 1. Importing libraries and data sets"
   ]
  },
  {
   "cell_type": "code",
   "execution_count": 1,
   "id": "ba8a7f36",
   "metadata": {},
   "outputs": [],
   "source": [
    "#Import Libraries\n",
    "import pandas as pd\n",
    "import numpy as np\n",
    "import os\n",
    "import matplotlib.pyplot as plt\n",
    "import seaborn as sns\n",
    "import scipy\n",
    "import matplotlib as mpl"
   ]
  },
  {
   "cell_type": "code",
   "execution_count": 2,
   "id": "80196b71",
   "metadata": {},
   "outputs": [],
   "source": [
    "#creating pathway for dataframes\n",
    "path = os.path.join(r'/Users/katja/Documents/Instacart Basket Analysis/02 Data')"
   ]
  },
  {
   "cell_type": "code",
   "execution_count": 3,
   "id": "ba646940",
   "metadata": {},
   "outputs": [],
   "source": [
    "#import orders_products_customer_updated (incl. the exclusion of 5 orders below)\n",
    "ords_prods =pd.read_pickle(os.path.join(path,'Prepared Data', 'orders_products_customers_updated.pkl'))"
   ]
  },
  {
   "cell_type": "code",
   "execution_count": 14,
   "id": "71824b9c",
   "metadata": {},
   "outputs": [],
   "source": [
    "#import departments_wrangled \n",
    "df_dep =pd.read_csv(os.path.join(path,'Prepared Data','departments_wrangled.csv'))"
   ]
  },
  {
   "cell_type": "code",
   "execution_count": 15,
   "id": "9c7e6a02",
   "metadata": {},
   "outputs": [
    {
     "data": {
      "text/plain": [
       "(21, 2)"
      ]
     },
     "execution_count": 15,
     "metadata": {},
     "output_type": "execute_result"
    }
   ],
   "source": [
    "df_dep.shape"
   ]
  },
  {
   "cell_type": "code",
   "execution_count": 16,
   "id": "a91a1757",
   "metadata": {},
   "outputs": [],
   "source": [
    "#loading garbage collector\n",
    "import gc"
   ]
  },
  {
   "cell_type": "code",
   "execution_count": 17,
   "id": "46e20a2b",
   "metadata": {},
   "outputs": [
    {
     "name": "stdout",
     "output_type": "stream",
     "text": [
      "<class 'pandas.core.frame.DataFrame'>\n",
      "Index: 30964564 entries, 0 to 32404854\n",
      "Data columns (total 31 columns):\n",
      " #   Column                  Dtype         \n",
      "---  ------                  -----         \n",
      " 0   order_id                object        \n",
      " 1   user_id                 object        \n",
      " 2   clients_order_number    int8          \n",
      " 3   orders_day_of_week      int8          \n",
      " 4   order_hour_of_day       int8          \n",
      " 5   days_since_prior_order  float32       \n",
      " 6   product_id              int32         \n",
      " 7   add_to_cart_order       int32         \n",
      " 8   reordered               int8          \n",
      " 9   product_name            object        \n",
      " 10  aisle_id                int8          \n",
      " 11  department_id           int8          \n",
      " 12  prices                  float32       \n",
      " 13  price_range_loc         object        \n",
      " 14  busiest_days            object        \n",
      " 15  busiest_period_of_day   object        \n",
      " 16  max_order               int8          \n",
      " 17  loyalty_flag            object        \n",
      " 18  mean_spend              float32       \n",
      " 19  spending_flag           object        \n",
      " 20  median_order_frequency  float32       \n",
      " 21  order_frequency_flag    object        \n",
      " 22  gender                  object        \n",
      " 23  state                   object        \n",
      " 24  age                     int8          \n",
      " 25  date_joined             datetime64[ns]\n",
      " 26  n_dependants            int8          \n",
      " 27  marital_status          object        \n",
      " 28  income                  int32         \n",
      " 29  region                  object        \n",
      " 30  exclusion_flag          object        \n",
      "dtypes: datetime64[ns](1), float32(4), int32(3), int8(9), object(14)\n",
      "memory usage: 4.8+ GB\n"
     ]
    }
   ],
   "source": [
    "ords_prods.info()"
   ]
  },
  {
   "cell_type": "markdown",
   "id": "f4491819",
   "metadata": {},
   "source": [
    "### Task 5. Create a profiling variable based on age, income, certain goods in the “department_id” column, and number of dependents. You might also use the “orders_day_of_the_week” and “order_hour_of_day” columns if you can think of a way they would impact customer profiles. (Hint: As an example, try thinking of what characteristics would lead you to the profile “Single adult” or “Young parent.”)"
   ]
  },
  {
   "cell_type": "markdown",
   "id": "090e9316",
   "metadata": {},
   "source": [
    "### Creating Flags for Age and Income Level"
   ]
  },
  {
   "cell_type": "code",
   "execution_count": 20,
   "id": "9b0e3a44",
   "metadata": {},
   "outputs": [],
   "source": [
    "# Creating 'age_group' column to give each customer an age group flag.\n",
    "\n",
    "ords_prods.loc[(ords_prods['age'] >= 18) & (ords_prods['age'] <= 32), 'age_group'] = 'Young Adult: 18-32'"
   ]
  },
  {
   "cell_type": "code",
   "execution_count": 21,
   "id": "5aa9718a",
   "metadata": {},
   "outputs": [],
   "source": [
    "ords_prods.loc[(ords_prods['age'] >= 33) & (ords_prods['age'] <= 48), 'age_group'] = 'Adult: 33-48'"
   ]
  },
  {
   "cell_type": "code",
   "execution_count": 22,
   "id": "da131716",
   "metadata": {},
   "outputs": [],
   "source": [
    "ords_prods.loc[(ords_prods['age'] >= 49) & (ords_prods['age'] <= 64), 'age_group'] = 'Middleaged Adult: 49-64'"
   ]
  },
  {
   "cell_type": "code",
   "execution_count": 23,
   "id": "76615161",
   "metadata": {},
   "outputs": [],
   "source": [
    "ords_prods.loc[(ords_prods['age'] >= 65), 'age_group'] = 'Senior: 65+'"
   ]
  },
  {
   "cell_type": "code",
   "execution_count": 24,
   "id": "413a6e41",
   "metadata": {},
   "outputs": [
    {
     "data": {
      "text/plain": [
       "age_group\n",
       "Senior: 65+                8195544\n",
       "Adult: 33-48               7755276\n",
       "Middleaged Adult: 49-64    7728610\n",
       "Young Adult: 18-32         7285134\n",
       "Name: count, dtype: int64"
      ]
     },
     "execution_count": 24,
     "metadata": {},
     "output_type": "execute_result"
    }
   ],
   "source": [
    "# value counts for the new flag age_group (frequency)\n",
    "\n",
    "ords_prods['age_group'].value_counts(dropna = False)"
   ]
  },
  {
   "cell_type": "code",
   "execution_count": 25,
   "id": "477bf681",
   "metadata": {},
   "outputs": [
    {
     "data": {
      "text/plain": [
       "30964564"
      ]
     },
     "execution_count": 25,
     "metadata": {},
     "output_type": "execute_result"
    }
   ],
   "source": [
    "# Checking out put numbers\n",
    "\n",
    "8195544 + 7755276 + 7728610 + 7285134"
   ]
  },
  {
   "cell_type": "code",
   "execution_count": 99,
   "id": "442a5ddd",
   "metadata": {},
   "outputs": [
    {
     "data": {
      "text/html": [
       "<div>\n",
       "<style scoped>\n",
       "    .dataframe tbody tr th:only-of-type {\n",
       "        vertical-align: middle;\n",
       "    }\n",
       "\n",
       "    .dataframe tbody tr th {\n",
       "        vertical-align: top;\n",
       "    }\n",
       "\n",
       "    .dataframe thead th {\n",
       "        text-align: right;\n",
       "    }\n",
       "</style>\n",
       "<table border=\"1\" class=\"dataframe\">\n",
       "  <thead>\n",
       "    <tr style=\"text-align: right;\">\n",
       "      <th></th>\n",
       "      <th>order_id</th>\n",
       "      <th>user_id</th>\n",
       "      <th>clients_order_number</th>\n",
       "      <th>orders_day_of_week</th>\n",
       "      <th>order_hour_of_day</th>\n",
       "      <th>days_since_prior_order</th>\n",
       "      <th>product_id</th>\n",
       "      <th>add_to_cart_order</th>\n",
       "      <th>reordered</th>\n",
       "      <th>product_name</th>\n",
       "      <th>...</th>\n",
       "      <th>state</th>\n",
       "      <th>age</th>\n",
       "      <th>date_joined</th>\n",
       "      <th>n_dependants</th>\n",
       "      <th>marital_status</th>\n",
       "      <th>income</th>\n",
       "      <th>region</th>\n",
       "      <th>exclusion_flag</th>\n",
       "      <th>age_group</th>\n",
       "      <th>income_level</th>\n",
       "    </tr>\n",
       "  </thead>\n",
       "  <tbody>\n",
       "    <tr>\n",
       "      <th>0</th>\n",
       "      <td>2539329</td>\n",
       "      <td>1</td>\n",
       "      <td>1</td>\n",
       "      <td>2</td>\n",
       "      <td>8</td>\n",
       "      <td>NaN</td>\n",
       "      <td>196</td>\n",
       "      <td>1</td>\n",
       "      <td>0</td>\n",
       "      <td>Soda</td>\n",
       "      <td>...</td>\n",
       "      <td>Alabama</td>\n",
       "      <td>31</td>\n",
       "      <td>2019-02-17</td>\n",
       "      <td>3</td>\n",
       "      <td>married</td>\n",
       "      <td>40423</td>\n",
       "      <td>South</td>\n",
       "      <td>No</td>\n",
       "      <td>Young Adult: 18-32</td>\n",
       "      <td>Low Income</td>\n",
       "    </tr>\n",
       "    <tr>\n",
       "      <th>1</th>\n",
       "      <td>2398795</td>\n",
       "      <td>1</td>\n",
       "      <td>2</td>\n",
       "      <td>3</td>\n",
       "      <td>7</td>\n",
       "      <td>15.0</td>\n",
       "      <td>196</td>\n",
       "      <td>1</td>\n",
       "      <td>1</td>\n",
       "      <td>Soda</td>\n",
       "      <td>...</td>\n",
       "      <td>Alabama</td>\n",
       "      <td>31</td>\n",
       "      <td>2019-02-17</td>\n",
       "      <td>3</td>\n",
       "      <td>married</td>\n",
       "      <td>40423</td>\n",
       "      <td>South</td>\n",
       "      <td>No</td>\n",
       "      <td>Young Adult: 18-32</td>\n",
       "      <td>Low Income</td>\n",
       "    </tr>\n",
       "    <tr>\n",
       "      <th>2</th>\n",
       "      <td>473747</td>\n",
       "      <td>1</td>\n",
       "      <td>3</td>\n",
       "      <td>3</td>\n",
       "      <td>12</td>\n",
       "      <td>21.0</td>\n",
       "      <td>196</td>\n",
       "      <td>1</td>\n",
       "      <td>1</td>\n",
       "      <td>Soda</td>\n",
       "      <td>...</td>\n",
       "      <td>Alabama</td>\n",
       "      <td>31</td>\n",
       "      <td>2019-02-17</td>\n",
       "      <td>3</td>\n",
       "      <td>married</td>\n",
       "      <td>40423</td>\n",
       "      <td>South</td>\n",
       "      <td>No</td>\n",
       "      <td>Young Adult: 18-32</td>\n",
       "      <td>Low Income</td>\n",
       "    </tr>\n",
       "    <tr>\n",
       "      <th>3</th>\n",
       "      <td>2254736</td>\n",
       "      <td>1</td>\n",
       "      <td>4</td>\n",
       "      <td>4</td>\n",
       "      <td>7</td>\n",
       "      <td>29.0</td>\n",
       "      <td>196</td>\n",
       "      <td>1</td>\n",
       "      <td>1</td>\n",
       "      <td>Soda</td>\n",
       "      <td>...</td>\n",
       "      <td>Alabama</td>\n",
       "      <td>31</td>\n",
       "      <td>2019-02-17</td>\n",
       "      <td>3</td>\n",
       "      <td>married</td>\n",
       "      <td>40423</td>\n",
       "      <td>South</td>\n",
       "      <td>No</td>\n",
       "      <td>Young Adult: 18-32</td>\n",
       "      <td>Low Income</td>\n",
       "    </tr>\n",
       "    <tr>\n",
       "      <th>4</th>\n",
       "      <td>431534</td>\n",
       "      <td>1</td>\n",
       "      <td>5</td>\n",
       "      <td>4</td>\n",
       "      <td>15</td>\n",
       "      <td>28.0</td>\n",
       "      <td>196</td>\n",
       "      <td>1</td>\n",
       "      <td>1</td>\n",
       "      <td>Soda</td>\n",
       "      <td>...</td>\n",
       "      <td>Alabama</td>\n",
       "      <td>31</td>\n",
       "      <td>2019-02-17</td>\n",
       "      <td>3</td>\n",
       "      <td>married</td>\n",
       "      <td>40423</td>\n",
       "      <td>South</td>\n",
       "      <td>No</td>\n",
       "      <td>Young Adult: 18-32</td>\n",
       "      <td>Low Income</td>\n",
       "    </tr>\n",
       "  </tbody>\n",
       "</table>\n",
       "<p>5 rows × 33 columns</p>\n",
       "</div>"
      ],
      "text/plain": [
       "  order_id user_id  clients_order_number  orders_day_of_week  \\\n",
       "0  2539329       1                     1                   2   \n",
       "1  2398795       1                     2                   3   \n",
       "2   473747       1                     3                   3   \n",
       "3  2254736       1                     4                   4   \n",
       "4   431534       1                     5                   4   \n",
       "\n",
       "   order_hour_of_day  days_since_prior_order  product_id  add_to_cart_order  \\\n",
       "0                  8                     NaN         196                  1   \n",
       "1                  7                    15.0         196                  1   \n",
       "2                 12                    21.0         196                  1   \n",
       "3                  7                    29.0         196                  1   \n",
       "4                 15                    28.0         196                  1   \n",
       "\n",
       "   reordered product_name  ...    state  age  date_joined n_dependants  \\\n",
       "0          0         Soda  ...  Alabama   31   2019-02-17            3   \n",
       "1          1         Soda  ...  Alabama   31   2019-02-17            3   \n",
       "2          1         Soda  ...  Alabama   31   2019-02-17            3   \n",
       "3          1         Soda  ...  Alabama   31   2019-02-17            3   \n",
       "4          1         Soda  ...  Alabama   31   2019-02-17            3   \n",
       "\n",
       "  marital_status income  region exclusion_flag           age_group  \\\n",
       "0        married  40423   South             No  Young Adult: 18-32   \n",
       "1        married  40423   South             No  Young Adult: 18-32   \n",
       "2        married  40423   South             No  Young Adult: 18-32   \n",
       "3        married  40423   South             No  Young Adult: 18-32   \n",
       "4        married  40423   South             No  Young Adult: 18-32   \n",
       "\n",
       "  income_level  \n",
       "0   Low Income  \n",
       "1   Low Income  \n",
       "2   Low Income  \n",
       "3   Low Income  \n",
       "4   Low Income  \n",
       "\n",
       "[5 rows x 33 columns]"
      ]
     },
     "execution_count": 99,
     "metadata": {},
     "output_type": "execute_result"
    }
   ],
   "source": [
    "ords_prods.head()"
   ]
  },
  {
   "cell_type": "code",
   "execution_count": 95,
   "id": "8151d18c",
   "metadata": {},
   "outputs": [],
   "source": [
    "#Creating 'income_level' column to group customers income into 3 level: Low, Middle and High Income\n",
    "\n",
    "ords_prods.loc[(ords_prods['income'] > 25000) & (ords_prods['income'] <= 67000), 'income_level'] = 'Low Income'"
   ]
  },
  {
   "cell_type": "code",
   "execution_count": 36,
   "id": "f7330b65",
   "metadata": {},
   "outputs": [],
   "source": [
    "ords_prods.loc[(ords_prods['income'] >= 67001) & (ords_prods['income'] <= 127000), 'income_level'] = 'Middle Income'"
   ]
  },
  {
   "cell_type": "code",
   "execution_count": 37,
   "id": "0a9289d3",
   "metadata": {},
   "outputs": [],
   "source": [
    "ords_prods.loc[ords_prods['income'] > 127001, 'income_level'] = 'High Income'\n"
   ]
  },
  {
   "cell_type": "code",
   "execution_count": 38,
   "id": "4531a6ea",
   "metadata": {},
   "outputs": [
    {
     "data": {
      "text/plain": [
       "income_level\n",
       "Middle Income    15370616\n",
       "High Income       7932470\n",
       "Lower Income      7661478\n",
       "Name: count, dtype: int64"
      ]
     },
     "execution_count": 38,
     "metadata": {},
     "output_type": "execute_result"
    }
   ],
   "source": [
    "# value counts for the new flag income_level (frequency)\n",
    "\n",
    "ords_prods['income_level'].value_counts(dropna = False)"
   ]
  },
  {
   "cell_type": "code",
   "execution_count": 39,
   "id": "88c19f4e",
   "metadata": {},
   "outputs": [
    {
     "data": {
      "text/plain": [
       "30964564"
      ]
     },
     "execution_count": 39,
     "metadata": {},
     "output_type": "execute_result"
    }
   ],
   "source": [
    "# Checking out put numbers\n",
    "\n",
    "15370616+ 7932470 + 7661478"
   ]
  },
  {
   "cell_type": "markdown",
   "id": "b3df7cb7",
   "metadata": {},
   "source": [
    "### Sampling Data Set"
   ]
  },
  {
   "cell_type": "code",
   "execution_count": 100,
   "id": "bc7aa765",
   "metadata": {},
   "outputs": [
    {
     "data": {
      "text/plain": [
       "30964564"
      ]
     },
     "execution_count": 100,
     "metadata": {},
     "output_type": "execute_result"
    }
   ],
   "source": [
    "#creating 70/30 split for data sample\n",
    "np.random.seed(4)\n",
    "dev = np.random.rand(len(ords_prods)) <= 0.7\n",
    "\n",
    "# store 70% of the sample in the df_big and 30% in df_small\n",
    "df_big = ords_prods[dev]\n",
    "df_small = ords_prods[~dev]\n",
    "\n",
    "#quality check\n",
    "len(df_big)+len(df_small)"
   ]
  },
  {
   "cell_type": "code",
   "execution_count": 43,
   "id": "3aadcf05",
   "metadata": {},
   "outputs": [
    {
     "data": {
      "text/plain": [
       "9288468"
      ]
     },
     "execution_count": 43,
     "metadata": {},
     "output_type": "execute_result"
    }
   ],
   "source": [
    "len(df_small)"
   ]
  },
  {
   "cell_type": "code",
   "execution_count": 44,
   "id": "6962f222",
   "metadata": {},
   "outputs": [
    {
     "data": {
      "text/plain": [
       "21676096"
      ]
     },
     "execution_count": 44,
     "metadata": {},
     "output_type": "execute_result"
    }
   ],
   "source": [
    "len(df_big)"
   ]
  },
  {
   "cell_type": "markdown",
   "id": "fd881e72",
   "metadata": {},
   "source": [
    "### Checking Customer by Income Level, Age Group and Region"
   ]
  },
  {
   "cell_type": "code",
   "execution_count": 50,
   "id": "ed148080",
   "metadata": {},
   "outputs": [
    {
     "data": {
      "image/png": "[encoded data removed]",
      "text/plain": [
       "<Figure size 640x480 with 1 Axes>"
      ]
     },
     "metadata": {},
     "output_type": "display_data"
    }
   ],
   "source": [
    "#bar chart on income_level value counts to see the distribution. Sorted by largest to smallest\n",
    "\n",
    "plt.title('Customer grouped by Income', fontsize=13)\n",
    "bar_cig = ords_prods['income_level'].value_counts().sort_index().plot.bar(color=['green'], xlabel='Income', ylabel='Frequency')\n",
    "\n",
    "# Adjust the layout to ensure everything fits\n",
    "plt.tight_layout()"
   ]
  },
  {
   "cell_type": "markdown",
   "id": "f7ac8afc",
   "metadata": {},
   "source": [
    "### Export Barchart Customer Income Groups"
   ]
  },
  {
   "cell_type": "code",
   "execution_count": 51,
   "id": "33000453",
   "metadata": {},
   "outputs": [],
   "source": [
    "bar_cig.figure.savefig(os.path.join(r'/Users/katja/Documents/Instacart Basket Analysis/04 Analysis/Visualizations/Customer_Income_Groups_bar.png'))"
   ]
  },
  {
   "cell_type": "code",
   "execution_count": 52,
   "id": "49c82e0f",
   "metadata": {},
   "outputs": [
    {
     "data": {
      "text/plain": [
       "13057"
      ]
     },
     "execution_count": 52,
     "metadata": {},
     "output_type": "execute_result"
    }
   ],
   "source": [
    "#delete df to save space \n",
    "\n",
    "del bar_cig\n",
    "\n",
    "gc.collect()"
   ]
  },
  {
   "cell_type": "code",
   "execution_count": 57,
   "id": "a2582361",
   "metadata": {},
   "outputs": [
    {
     "data": {
      "image/png": "[encoded data removed]",
      "text/plain": [
       "<Figure size 640x480 with 1 Axes>"
      ]
     },
     "metadata": {},
     "output_type": "display_data"
    }
   ],
   "source": [
    "#bar chart on Age group value counts to see the distribution. \n",
    "\n",
    "plt.title('Age Group Distribution', fontsize=13)\n",
    "bar_agd = ords_prods['age_group'].value_counts().plot.bar( color=['green'], xlabel='Age Group', ylabel='Count')\n",
    "\n",
    "# Adjust the layout to ensure everything fits\n",
    "plt.tight_layout()"
   ]
  },
  {
   "cell_type": "markdown",
   "id": "092431db",
   "metadata": {},
   "source": [
    "### Export Barchart Age Group Distribution"
   ]
  },
  {
   "cell_type": "code",
   "execution_count": 58,
   "id": "c2d397fe",
   "metadata": {},
   "outputs": [],
   "source": [
    "bar_agd.figure.savefig(os.path.join(r'/Users/katja/Documents/Instacart Basket Analysis/04 Analysis/Visualizations/age_group_distribution_bar.png'))"
   ]
  },
  {
   "cell_type": "code",
   "execution_count": 59,
   "id": "f701ce87",
   "metadata": {},
   "outputs": [
    {
     "data": {
      "text/plain": [
       "9943"
      ]
     },
     "execution_count": 59,
     "metadata": {},
     "output_type": "execute_result"
    }
   ],
   "source": [
    "#delete df to save space \n",
    "\n",
    "del bar_agd\n",
    "\n",
    "gc.collect()"
   ]
  },
  {
   "cell_type": "markdown",
   "id": "12ec7006",
   "metadata": {},
   "source": [
    "## Customers by Income Level and Age group"
   ]
  },
  {
   "cell_type": "code",
   "execution_count": 61,
   "id": "3e24d9e2",
   "metadata": {},
   "outputs": [
    {
     "data": {
      "text/html": [
       "<div>\n",
       "<style scoped>\n",
       "    .dataframe tbody tr th:only-of-type {\n",
       "        vertical-align: middle;\n",
       "    }\n",
       "\n",
       "    .dataframe tbody tr th {\n",
       "        vertical-align: top;\n",
       "    }\n",
       "\n",
       "    .dataframe thead th {\n",
       "        text-align: right;\n",
       "    }\n",
       "</style>\n",
       "<table border=\"1\" class=\"dataframe\">\n",
       "  <thead>\n",
       "    <tr style=\"text-align: right;\">\n",
       "      <th></th>\n",
       "      <th>age_group</th>\n",
       "      <th>income_level</th>\n",
       "    </tr>\n",
       "  </thead>\n",
       "  <tbody>\n",
       "    <tr>\n",
       "      <th>0</th>\n",
       "      <td>Young Adult: 18-32</td>\n",
       "      <td>Lower Income</td>\n",
       "    </tr>\n",
       "    <tr>\n",
       "      <th>2</th>\n",
       "      <td>Young Adult: 18-32</td>\n",
       "      <td>Lower Income</td>\n",
       "    </tr>\n",
       "    <tr>\n",
       "      <th>3</th>\n",
       "      <td>Young Adult: 18-32</td>\n",
       "      <td>Lower Income</td>\n",
       "    </tr>\n",
       "    <tr>\n",
       "      <th>6</th>\n",
       "      <td>Young Adult: 18-32</td>\n",
       "      <td>Lower Income</td>\n",
       "    </tr>\n",
       "    <tr>\n",
       "      <th>10</th>\n",
       "      <td>Young Adult: 18-32</td>\n",
       "      <td>Lower Income</td>\n",
       "    </tr>\n",
       "  </tbody>\n",
       "</table>\n",
       "</div>"
      ],
      "text/plain": [
       "             age_group  income_level\n",
       "0   Young Adult: 18-32  Lower Income\n",
       "2   Young Adult: 18-32  Lower Income\n",
       "3   Young Adult: 18-32  Lower Income\n",
       "6   Young Adult: 18-32  Lower Income\n",
       "10  Young Adult: 18-32  Lower Income"
      ]
     },
     "execution_count": 61,
     "metadata": {},
     "output_type": "execute_result"
    }
   ],
   "source": [
    "# Extract age group and income level into a separate dataframe\n",
    "df_age_income = df_small [['age_group', 'income_level']]\n",
    "df_age_income.head()"
   ]
  },
  {
   "cell_type": "code",
   "execution_count": 89,
   "id": "fb8074ba",
   "metadata": {},
   "outputs": [],
   "source": [
    "#Creating new pivot table for 'age_group' and 'income_level'\n",
    "\n",
    "df_age_incom = df_small.pivot_table(index='income_level', columns='age_group', values='order_id', aggfunc='count', fill_value=0)"
   ]
  },
  {
   "cell_type": "code",
   "execution_count": 90,
   "id": "bc674e78",
   "metadata": {},
   "outputs": [
    {
     "data": {
      "image/png": "[encoded data removed]",
      "text/plain": [
       "<Figure size 640x480 with 1 Axes>"
      ]
     },
     "metadata": {},
     "output_type": "display_data"
    }
   ],
   "source": [
    "#bar chart on Customers by Income and Age Group\n",
    "\n",
    "age_income_bar = df_age_incom.plot.bar()\n",
    "\n",
    "# Add labels\n",
    "plt.xlabel('Income')\n",
    "plt.ylabel('Frequency')\n",
    "plt.title('Customers by Income and Age Group', fontsize=13)\n",
    "\n",
    "# Add a legend\n",
    "plt.legend(title='')\n",
    "\n",
    "# Adjust x labels \n",
    "x = [0,1,2]\n",
    "labels = ['High Income','Low Income', 'Middle Income']\n",
    "plt.xticks(x, labels, rotation=360)\n",
    "\n",
    "# Adjust the layout to ensure everything fits\n",
    "plt.tight_layout()"
   ]
  },
  {
   "cell_type": "markdown",
   "id": "47d673b0",
   "metadata": {},
   "source": [
    "### Export Barchart Customers by Income and Age Group"
   ]
  },
  {
   "cell_type": "code",
   "execution_count": 80,
   "id": "52c11384",
   "metadata": {},
   "outputs": [],
   "source": [
    "age_income_bar.figure.savefig(os.path.join(r'/Users/katja/Documents/Instacart Basket Analysis/04 Analysis/Visualizations/age_income_bar.png'))"
   ]
  },
  {
   "cell_type": "code",
   "execution_count": 91,
   "id": "1544f9d2",
   "metadata": {},
   "outputs": [
    {
     "data": {
      "text/plain": [
       "4271"
      ]
     },
     "execution_count": 91,
     "metadata": {},
     "output_type": "execute_result"
    }
   ],
   "source": [
    "#delete df to save space \n",
    "\n",
    "del df_age_incom\n",
    "del age_income_bar\n",
    "\n",
    "gc.collect()"
   ]
  },
  {
   "cell_type": "markdown",
   "id": "a59a4413",
   "metadata": {},
   "source": [
    "## Customers by Income Level and Region"
   ]
  },
  {
   "cell_type": "code",
   "execution_count": 101,
   "id": "eddfc62f",
   "metadata": {},
   "outputs": [],
   "source": [
    "#Creating new pivot table for 'region' and 'income_level'\n",
    "\n",
    "df_income_region = df_small.pivot_table(index='region', columns='income_level', values='order_id', aggfunc='count', fill_value=0)"
   ]
  },
  {
   "cell_type": "code",
   "execution_count": 104,
   "id": "2b827f82",
   "metadata": {},
   "outputs": [
    {
     "data": {
      "image/png": "[encoded data removed]",
      "text/plain": [
       "<Figure size 640x480 with 1 Axes>"
      ]
     },
     "metadata": {},
     "output_type": "display_data"
    }
   ],
   "source": [
    "#bar chart on Customers by Income and Region\n",
    "\n",
    "region_income_bar = df_income_region.plot.bar()\n",
    "\n",
    "# Add labels\n",
    "plt.xlabel('Region')\n",
    "plt.ylabel('Frequency')\n",
    "plt.title('Customers by Income and Region', fontsize=13)\n",
    "\n",
    "# Add a legend\n",
    "plt.legend(title='')\n",
    "\n",
    "# Adjust x labels \n",
    "x = [0,1,2,3]\n",
    "labels = ['Midwest','Northeast', 'South','West' ]\n",
    "plt.xticks(x, labels, rotation=360)\n",
    "\n",
    "# Adjust the layout to ensure everything fits\n",
    "plt.tight_layout()"
   ]
  },
  {
   "cell_type": "markdown",
   "id": "bc585d76",
   "metadata": {},
   "source": [
    "### Export Barchart Customers by Income and Region"
   ]
  },
  {
   "cell_type": "code",
   "execution_count": 105,
   "id": "5736cae6",
   "metadata": {},
   "outputs": [],
   "source": [
    "region_income_bar.figure.savefig(os.path.join(r'/Users/katja/Documents/Instacart Basket Analysis/04 Analysis/Visualizations/region_income_bar.png'))"
   ]
  },
  {
   "cell_type": "code",
   "execution_count": 106,
   "id": "55d7f9c3",
   "metadata": {},
   "outputs": [
    {
     "data": {
      "text/plain": [
       "20770"
      ]
     },
     "execution_count": 106,
     "metadata": {},
     "output_type": "execute_result"
    }
   ],
   "source": [
    "#delete df to save space \n",
    "\n",
    "del region_income_bar\n",
    "del age_income_bar\n",
    "del df_income_region\n",
    "\n",
    "gc.collect()"
   ]
  },
  {
   "cell_type": "markdown",
   "id": "53d19f42",
   "metadata": {},
   "source": [
    "## Customers by Marital Status and Region"
   ]
  },
  {
   "cell_type": "code",
   "execution_count": 107,
   "id": "009a855f",
   "metadata": {},
   "outputs": [],
   "source": [
    "#Creating new pivot table for 'region' and 'marital status'\n",
    "\n",
    "df_marital_region = df_small.pivot_table(index='region', columns='marital_status', values='order_id', aggfunc='count', fill_value=0)"
   ]
  },
  {
   "cell_type": "code",
   "execution_count": 108,
   "id": "6e25136e",
   "metadata": {},
   "outputs": [
    {
     "data": {
      "image/png": "[encoded data removed]",
      "text/plain": [
       "<Figure size 640x480 with 1 Axes>"
      ]
     },
     "metadata": {},
     "output_type": "display_data"
    }
   ],
   "source": [
    "#bar chart on Customers by Marital Status and Region\n",
    "\n",
    "region_income_bar = df_marital_region.plot.bar()\n",
    "\n",
    "# Add labels\n",
    "plt.xlabel('Region')\n",
    "plt.ylabel('Frequency')\n",
    "plt.title('Customers by Marital Status and Region', fontsize=13)\n",
    "\n",
    "# Add a legend\n",
    "plt.legend(title='')\n",
    "\n",
    "# Adjust x labels \n",
    "x = [0,1,2,3]\n",
    "labels = ['Midwest','Northeast', 'South','West' ]\n",
    "plt.xticks(x, labels, rotation=360)\n",
    "\n",
    "# Adjust the layout to ensure everything fits\n",
    "plt.tight_layout()"
   ]
  },
  {
   "cell_type": "code",
   "execution_count": 110,
   "id": "b53ed88c",
   "metadata": {},
   "outputs": [],
   "source": [
    "# To normalize the column based on the number of customers in each region:\n",
    "# First, calculate the total number of customers in each region\n",
    "\n",
    "total_customers = df_small.groupby('region')['user_id'].count()"
   ]
  },
  {
   "cell_type": "code",
   "execution_count": 111,
   "id": "8d70be44",
   "metadata": {},
   "outputs": [],
   "source": [
    "# Normalize the counts by dividing by the total customers in each region\n",
    "\n",
    "result_normalized = df_marital_region.div(total_customers, axis=0)"
   ]
  },
  {
   "cell_type": "code",
   "execution_count": 112,
   "id": "eb12a0da",
   "metadata": {},
   "outputs": [
    {
     "data": {
      "text/html": [
       "<div>\n",
       "<style scoped>\n",
       "    .dataframe tbody tr th:only-of-type {\n",
       "        vertical-align: middle;\n",
       "    }\n",
       "\n",
       "    .dataframe tbody tr th {\n",
       "        vertical-align: top;\n",
       "    }\n",
       "\n",
       "    .dataframe thead th {\n",
       "        text-align: right;\n",
       "    }\n",
       "</style>\n",
       "<table border=\"1\" class=\"dataframe\">\n",
       "  <thead>\n",
       "    <tr style=\"text-align: right;\">\n",
       "      <th>marital_status</th>\n",
       "      <th>divorced/widowed</th>\n",
       "      <th>living with parents and siblings</th>\n",
       "      <th>married</th>\n",
       "      <th>single</th>\n",
       "    </tr>\n",
       "    <tr>\n",
       "      <th>region</th>\n",
       "      <th></th>\n",
       "      <th></th>\n",
       "      <th></th>\n",
       "      <th></th>\n",
       "    </tr>\n",
       "  </thead>\n",
       "  <tbody>\n",
       "    <tr>\n",
       "      <th>Midwest</th>\n",
       "      <td>0.084758</td>\n",
       "      <td>0.048470</td>\n",
       "      <td>0.701003</td>\n",
       "      <td>0.165769</td>\n",
       "    </tr>\n",
       "    <tr>\n",
       "      <th>Northeast</th>\n",
       "      <td>0.087296</td>\n",
       "      <td>0.046981</td>\n",
       "      <td>0.705396</td>\n",
       "      <td>0.160327</td>\n",
       "    </tr>\n",
       "    <tr>\n",
       "      <th>South</th>\n",
       "      <td>0.085175</td>\n",
       "      <td>0.049240</td>\n",
       "      <td>0.700258</td>\n",
       "      <td>0.165326</td>\n",
       "    </tr>\n",
       "    <tr>\n",
       "      <th>West</th>\n",
       "      <td>0.084599</td>\n",
       "      <td>0.046262</td>\n",
       "      <td>0.704411</td>\n",
       "      <td>0.164727</td>\n",
       "    </tr>\n",
       "  </tbody>\n",
       "</table>\n",
       "</div>"
      ],
      "text/plain": [
       "marital_status  divorced/widowed  living with parents and siblings   married  \\\n",
       "region                                                                         \n",
       "Midwest                 0.084758                          0.048470  0.701003   \n",
       "Northeast               0.087296                          0.046981  0.705396   \n",
       "South                   0.085175                          0.049240  0.700258   \n",
       "West                    0.084599                          0.046262  0.704411   \n",
       "\n",
       "marital_status    single  \n",
       "region                    \n",
       "Midwest         0.165769  \n",
       "Northeast       0.160327  \n",
       "South           0.165326  \n",
       "West            0.164727  "
      ]
     },
     "execution_count": 112,
     "metadata": {},
     "output_type": "execute_result"
    }
   ],
   "source": [
    "result_normalized"
   ]
  },
  {
   "cell_type": "code",
   "execution_count": 113,
   "id": "b89235b7",
   "metadata": {},
   "outputs": [],
   "source": [
    "# Multiply by 100 to gain result as a percentage\n",
    "result_normalized_percent = result_normalized * 100"
   ]
  },
  {
   "cell_type": "code",
   "execution_count": 115,
   "id": "1ecb4813",
   "metadata": {},
   "outputs": [
    {
     "data": {
      "image/png": "[encoded data removed]",
      "text/plain": [
       "<Figure size 640x480 with 1 Axes>"
      ]
     },
     "metadata": {},
     "output_type": "display_data"
    }
   ],
   "source": [
    "# Create a grouped bar chart from the result_normalized_percent results\n",
    "\n",
    "region_income_bar_procen = result_normalized_percent.plot.bar()\n",
    "\n",
    "# Add labels\n",
    "plt.xlabel('Region')\n",
    "plt.ylabel('Procentage')\n",
    "plt.title('Customers by Marital Status and Region', fontsize=13)\n",
    "\n",
    "# Add a legend\n",
    "plt.legend(title='')\n",
    "\n",
    "# Adjust x labels \n",
    "x = [0,1,2,3]\n",
    "labels = ['Midwest','Northeast', 'South','West' ]\n",
    "plt.xticks(x, labels, rotation=360)\n",
    "\n",
    "# Adjust the layout to ensure everything fits\n",
    "plt.tight_layout()"
   ]
  },
  {
   "cell_type": "markdown",
   "id": "d5a1b7c7",
   "metadata": {},
   "source": [
    "### Export Barchart Customers by Marital Status and Region (Frequency)"
   ]
  },
  {
   "cell_type": "code",
   "execution_count": 116,
   "id": "8366f837",
   "metadata": {},
   "outputs": [],
   "source": [
    "region_income_bar.figure.savefig(os.path.join(r'/Users/katja/Documents/Instacart Basket Analysis/04 Analysis/Visualizations/region_marital_freq_bar.png'))"
   ]
  },
  {
   "cell_type": "markdown",
   "id": "dbb667cc",
   "metadata": {},
   "source": [
    "### Export Barchart Customers by Marital Status and Region (Procentage)"
   ]
  },
  {
   "cell_type": "code",
   "execution_count": 117,
   "id": "048f1655",
   "metadata": {},
   "outputs": [],
   "source": [
    "region_income_bar_procen.figure.savefig(os.path.join(r'/Users/katja/Documents/Instacart Basket Analysis/04 Analysis/Visualizations/region_marital_procen_bar.png'))"
   ]
  },
  {
   "cell_type": "code",
   "execution_count": 118,
   "id": "b36f6519",
   "metadata": {},
   "outputs": [
    {
     "data": {
      "text/plain": [
       "8658"
      ]
     },
     "execution_count": 118,
     "metadata": {},
     "output_type": "execute_result"
    }
   ],
   "source": [
    "#delete df to save space \n",
    "\n",
    "del df_marital_region\n",
    "del region_income_bar\n",
    "del total_customers\n",
    "\n",
    "gc.collect()"
   ]
  },
  {
   "cell_type": "markdown",
   "id": "7b3d837e",
   "metadata": {},
   "source": [
    "## Customers by Region and Age/ Income_Level"
   ]
  },
  {
   "cell_type": "code",
   "execution_count": 126,
   "id": "7b6b4ec7",
   "metadata": {},
   "outputs": [],
   "source": [
    "#Creating new pivot table for 'region' and 'income level'\n",
    "\n",
    "df_income_region = df_small.pivot_table(index='region', columns='income_level', values='order_id', aggfunc='count', fill_value=0)"
   ]
  },
  {
   "cell_type": "code",
   "execution_count": 127,
   "id": "17dc2d0f",
   "metadata": {},
   "outputs": [
    {
     "data": {
      "text/html": [
       "<div>\n",
       "<style scoped>\n",
       "    .dataframe tbody tr th:only-of-type {\n",
       "        vertical-align: middle;\n",
       "    }\n",
       "\n",
       "    .dataframe tbody tr th {\n",
       "        vertical-align: top;\n",
       "    }\n",
       "\n",
       "    .dataframe thead th {\n",
       "        text-align: right;\n",
       "    }\n",
       "</style>\n",
       "<table border=\"1\" class=\"dataframe\">\n",
       "  <thead>\n",
       "    <tr style=\"text-align: right;\">\n",
       "      <th>income_level</th>\n",
       "      <th>High Income</th>\n",
       "      <th>Low Income</th>\n",
       "      <th>Middle Income</th>\n",
       "    </tr>\n",
       "    <tr>\n",
       "      <th>region</th>\n",
       "      <th></th>\n",
       "      <th></th>\n",
       "      <th></th>\n",
       "    </tr>\n",
       "  </thead>\n",
       "  <tbody>\n",
       "    <tr>\n",
       "      <th>Midwest</th>\n",
       "      <td>568927</td>\n",
       "      <td>531414</td>\n",
       "      <td>1079081</td>\n",
       "    </tr>\n",
       "    <tr>\n",
       "      <th>Northeast</th>\n",
       "      <td>422618</td>\n",
       "      <td>406395</td>\n",
       "      <td>810001</td>\n",
       "    </tr>\n",
       "    <tr>\n",
       "      <th>South</th>\n",
       "      <td>781742</td>\n",
       "      <td>770765</td>\n",
       "      <td>1540414</td>\n",
       "    </tr>\n",
       "    <tr>\n",
       "      <th>West</th>\n",
       "      <td>606894</td>\n",
       "      <td>589587</td>\n",
       "      <td>1180630</td>\n",
       "    </tr>\n",
       "  </tbody>\n",
       "</table>\n",
       "</div>"
      ],
      "text/plain": [
       "income_level  High Income  Low Income  Middle Income\n",
       "region                                              \n",
       "Midwest            568927      531414        1079081\n",
       "Northeast          422618      406395         810001\n",
       "South              781742      770765        1540414\n",
       "West               606894      589587        1180630"
      ]
     },
     "execution_count": 127,
     "metadata": {},
     "output_type": "execute_result"
    }
   ],
   "source": [
    "df_income_region"
   ]
  },
  {
   "cell_type": "code",
   "execution_count": 128,
   "id": "ab9afd59",
   "metadata": {},
   "outputs": [
    {
     "data": {
      "text/plain": [
       "2429"
      ]
     },
     "execution_count": 128,
     "metadata": {},
     "output_type": "execute_result"
    }
   ],
   "source": [
    "#delete df to save space \n",
    "\n",
    "del df_income_region\n",
    "\n",
    "gc.collect()\n"
   ]
  },
  {
   "cell_type": "code",
   "execution_count": 129,
   "id": "76c108f5",
   "metadata": {},
   "outputs": [],
   "source": [
    "#Creating new pivot table for 'region' and 'age group'\n",
    "\n",
    "df_agegroup_region = df_small.pivot_table(index='region', columns='age_group', values='order_id', aggfunc='count', fill_value=0)"
   ]
  },
  {
   "cell_type": "code",
   "execution_count": 131,
   "id": "6dd33349",
   "metadata": {},
   "outputs": [
    {
     "data": {
      "image/png": "[encoded data removed]",
      "text/plain": [
       "<Figure size 640x480 with 1 Axes>"
      ]
     },
     "metadata": {},
     "output_type": "display_data"
    }
   ],
   "source": [
    "#bar chart on Customers by Age Group and Region\n",
    "\n",
    "region_ag = df_agegroup_region.plot.bar()\n",
    "\n",
    "# Add labels\n",
    "plt.xlabel('Region')\n",
    "plt.ylabel('Frequency')\n",
    "plt.title('Customers by Age and Region', fontsize=13)\n",
    "\n",
    "# Add a legend\n",
    "plt.legend(title='')\n",
    "\n",
    "# Adjust x labels \n",
    "x = [0,1,2,3]\n",
    "labels = ['Midwest','Northeast', 'South','West' ]\n",
    "plt.xticks(x, labels, rotation=360)\n",
    "\n",
    "# Adjust the layout to ensure everything fits\n",
    "plt.tight_layout()"
   ]
  },
  {
   "cell_type": "markdown",
   "id": "df88c276",
   "metadata": {},
   "source": [
    "### Export Barchart Customers by Age Group & Region"
   ]
  },
  {
   "cell_type": "code",
   "execution_count": 133,
   "id": "f79ca4db",
   "metadata": {},
   "outputs": [],
   "source": [
    "region_ag.figure.savefig(os.path.join(r'/Users/katja/Documents/Instacart Basket Analysis/04 Analysis/Visualizations/region_agegroup_bar.png'))"
   ]
  },
  {
   "cell_type": "code",
   "execution_count": 134,
   "id": "53f01839",
   "metadata": {},
   "outputs": [
    {
     "data": {
      "text/plain": [
       "5263"
      ]
     },
     "execution_count": 134,
     "metadata": {},
     "output_type": "execute_result"
    }
   ],
   "source": [
    "#delete df to save space \n",
    "\n",
    "del region_ag\n",
    "del df_agegroup_region\n",
    "\n",
    "gc.collect()\n"
   ]
  },
  {
   "cell_type": "markdown",
   "id": "def0cad0",
   "metadata": {},
   "source": [
    "## Export Dataset"
   ]
  },
  {
   "cell_type": "code",
   "execution_count": 140,
   "id": "668958e1",
   "metadata": {},
   "outputs": [],
   "source": [
    "#Export ords_prods to PKL\n",
    "ords_prods.to_pickle(os.path.join(path,'Prepared Data', 'orders_products_customers_updated.pkl'))"
   ]
  },
  {
   "cell_type": "code",
   "execution_count": 141,
   "id": "a23e46a7",
   "metadata": {},
   "outputs": [
    {
     "name": "stdout",
     "output_type": "stream",
     "text": [
      "<class 'pandas.core.frame.DataFrame'>\n",
      "Index: 30964564 entries, 0 to 32404854\n",
      "Data columns (total 33 columns):\n",
      " #   Column                  Dtype         \n",
      "---  ------                  -----         \n",
      " 0   order_id                object        \n",
      " 1   user_id                 object        \n",
      " 2   clients_order_number    int8          \n",
      " 3   orders_day_of_week      int8          \n",
      " 4   order_hour_of_day       int8          \n",
      " 5   days_since_prior_order  float32       \n",
      " 6   product_id              int32         \n",
      " 7   add_to_cart_order       int32         \n",
      " 8   reordered               int8          \n",
      " 9   product_name            object        \n",
      " 10  aisle_id                int8          \n",
      " 11  department_id           int8          \n",
      " 12  prices                  float32       \n",
      " 13  price_range_loc         object        \n",
      " 14  busiest_days            object        \n",
      " 15  busiest_period_of_day   object        \n",
      " 16  max_order               int8          \n",
      " 17  loyalty_flag            object        \n",
      " 18  mean_spend              float32       \n",
      " 19  spending_flag           object        \n",
      " 20  median_order_frequency  float32       \n",
      " 21  order_frequency_flag    object        \n",
      " 22  gender                  object        \n",
      " 23  state                   object        \n",
      " 24  age                     int8          \n",
      " 25  date_joined             datetime64[ns]\n",
      " 26  n_dependants            int8          \n",
      " 27  marital_status          object        \n",
      " 28  income                  int32         \n",
      " 29  region                  object        \n",
      " 30  exclusion_flag          object        \n",
      " 31  age_group               object        \n",
      " 32  income_level            object        \n",
      "dtypes: datetime64[ns](1), float32(4), int32(3), int8(9), object(16)\n",
      "memory usage: 5.2+ GB\n"
     ]
    }
   ],
   "source": [
    "ords_prods.info()"
   ]
  },
  {
   "cell_type": "code",
   "execution_count": 142,
   "id": "331c45af",
   "metadata": {},
   "outputs": [
    {
     "data": {
      "text/plain": [
       "3376"
      ]
     },
     "execution_count": 142,
     "metadata": {},
     "output_type": "execute_result"
    }
   ],
   "source": [
    "#delete df to save space \n",
    "\n",
    "del ords_prods\n",
    "del dev \n",
    "del df_big\n",
    "del df_small\n",
    "\n",
    "gc.collect()"
   ]
  },
  {
   "cell_type": "code",
   "execution_count": null,
   "id": "6e8b4b42",
   "metadata": {},
   "outputs": [],
   "source": []
  }
 ],
 "metadata": {
  "kernelspec": {
   "display_name": "Python 3 (ipykernel)",
   "language": "python",
   "name": "python3"
  },
  "language_info": {
   "codemirror_mode": {
    "name": "ipython",
    "version": 3
   },
   "file_extension": ".py",
   "mimetype": "text/x-python",
   "name": "python",
   "nbconvert_exporter": "python",
   "pygments_lexer": "ipython3",
   "version": "3.11.5"
  }
 },
 "nbformat": 4,
 "nbformat_minor": 5
}
